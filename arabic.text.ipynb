{
 "cells": [
  {
   "cell_type": "markdown",
   "metadata": {},
   "source": [
    "# Working with arabic text in Python 3.5.1 very good:"
   ]
  },
  {
   "cell_type": "code",
   "execution_count": 9,
   "metadata": {
    "collapsed": false
   },
   "outputs": [
    {
     "name": "stdout",
     "output_type": "stream",
     "text": [
      "ثورة شعبنا هي ثورة الكـــرامة وثـــورة الأحــــرار\n"
     ]
    }
   ],
   "source": [
    "textst = 'ثورة شعبنا هي ثورة الكـــرامة وثـــورة الأحــــرار'\n",
    "print (textst)"
   ]
  },
  {
   "cell_type": "code",
   "execution_count": 10,
   "metadata": {
    "collapsed": false
   },
   "outputs": [
    {
     "data": {
      "text/plain": [
       "['ثورة', 'شعبنا', 'هي', 'ثورة', 'الكـــرامة', 'وثـــورة', 'الأحــــرار']"
      ]
     },
     "execution_count": 10,
     "metadata": {},
     "output_type": "execute_result"
    }
   ],
   "source": [
    "textst.split()"
   ]
  },
  {
   "cell_type": "code",
   "execution_count": 11,
   "metadata": {
    "collapsed": false
   },
   "outputs": [
    {
     "data": {
      "text/plain": [
       "6"
      ]
     },
     "execution_count": 11,
     "metadata": {},
     "output_type": "execute_result"
    }
   ],
   "source": [
    "textst.count('ر')"
   ]
  },
  {
   "cell_type": "code",
   "execution_count": 13,
   "metadata": {
    "collapsed": false
   },
   "outputs": [
    {
     "data": {
      "text/plain": [
       "50"
      ]
     },
     "execution_count": 13,
     "metadata": {},
     "output_type": "execute_result"
    }
   ],
   "source": [
    "listcon = list(textst)\n",
    "len(listcon)"
   ]
  },
  {
   "cell_type": "code",
   "execution_count": 15,
   "metadata": {
    "collapsed": true
   },
   "outputs": [],
   "source": [
    "cleants=[]\n",
    "for le in listcon:\n",
    "    if le != 'ـ':\n",
    "        cleants.append(le)        "
   ]
  },
  {
   "cell_type": "code",
   "execution_count": 24,
   "metadata": {
    "collapsed": false
   },
   "outputs": [],
   "source": [
    "fulls = ''.join(cleants)"
   ]
  },
  {
   "cell_type": "code",
   "execution_count": 26,
   "metadata": {
    "collapsed": false
   },
   "outputs": [
    {
     "name": "stdout",
     "output_type": "stream",
     "text": [
      "ثورة شعبنا هي ثورة الكرامة وثورة الأحرار\n"
     ]
    }
   ],
   "source": [
    "print(fulls)"
   ]
  },
  {
   "cell_type": "code",
   "execution_count": 27,
   "metadata": {
    "collapsed": true
   },
   "outputs": [],
   "source": [
    "lis = fulls.split()"
   ]
  },
  {
   "cell_type": "code",
   "execution_count": 29,
   "metadata": {
    "collapsed": false
   },
   "outputs": [
    {
     "data": {
      "text/plain": [
       "['ثورة', 'شعبنا', 'هي', 'ثورة', 'الكرامة', 'وثورة', 'الأحرار']"
      ]
     },
     "execution_count": 29,
     "metadata": {},
     "output_type": "execute_result"
    }
   ],
   "source": [
    "lis"
   ]
  },
  {
   "cell_type": "code",
   "execution_count": 30,
   "metadata": {
    "collapsed": false
   },
   "outputs": [
    {
     "data": {
      "text/plain": [
       "7"
      ]
     },
     "execution_count": 30,
     "metadata": {},
     "output_type": "execute_result"
    }
   ],
   "source": [
    "len(lis)"
   ]
  },
  {
   "cell_type": "code",
   "execution_count": 31,
   "metadata": {
    "collapsed": false
   },
   "outputs": [
    {
     "data": {
      "text/plain": [
       "'شعبنا'"
      ]
     },
     "execution_count": 31,
     "metadata": {},
     "output_type": "execute_result"
    }
   ],
   "source": [
    "lis[1]"
   ]
  },
  {
   "cell_type": "code",
   "execution_count": 34,
   "metadata": {
    "collapsed": false
   },
   "outputs": [
    {
     "name": "stdout",
     "output_type": "stream",
     "text": [
      "0 ثورة\n",
      "1 شعبنا\n",
      "2 هي\n",
      "3 ثورة\n",
      "4 الكرامة\n",
      "5 وثورة\n",
      "6 الأحرار\n"
     ]
    }
   ],
   "source": [
    "for k,i in enumerate(lis):\n",
    "    print(k,i)"
   ]
  },
  {
   "cell_type": "code",
   "execution_count": 36,
   "metadata": {
    "collapsed": false
   },
   "outputs": [
    {
     "data": {
      "text/plain": [
       "2"
      ]
     },
     "execution_count": 36,
     "metadata": {},
     "output_type": "execute_result"
    }
   ],
   "source": [
    "lis.count('ثورة')"
   ]
  },
  {
   "cell_type": "code",
   "execution_count": 39,
   "metadata": {
    "collapsed": false
   },
   "outputs": [
    {
     "data": {
      "text/plain": [
       "'ث'"
      ]
     },
     "execution_count": 39,
     "metadata": {},
     "output_type": "execute_result"
    }
   ],
   "source": [
    "lis[0][0]"
   ]
  },
  {
   "cell_type": "code",
   "execution_count": 55,
   "metadata": {
    "collapsed": false
   },
   "outputs": [
    {
     "data": {
      "text/plain": [
       "'الأحرار'"
      ]
     },
     "execution_count": 55,
     "metadata": {},
     "output_type": "execute_result"
    }
   ],
   "source": [
    "lis[-1][-7:]"
   ]
  },
  {
   "cell_type": "markdown",
   "metadata": {},
   "source": [
    "# notice all text here is entered by hand\n",
    "# the next step is to try opening files"
   ]
  },
  {
   "cell_type": "code",
   "execution_count": 65,
   "metadata": {
    "collapsed": false
   },
   "outputs": [
    {
     "data": {
      "text/plain": [
       "'C:\\\\Users\\\\muham\\\\Untitled Folder'"
      ]
     },
     "execution_count": 65,
     "metadata": {},
     "output_type": "execute_result"
    }
   ],
   "source": [
    "pwd"
   ]
  },
  {
   "cell_type": "code",
   "execution_count": 85,
   "metadata": {
    "collapsed": false
   },
   "outputs": [],
   "source": [
    "inputf = open('small_arabic.txt','r',encoding='utf-8').read()"
   ]
  },
  {
   "cell_type": "code",
   "execution_count": 87,
   "metadata": {
    "collapsed": false
   },
   "outputs": [],
   "source": [
    "splitfile = inputf.split('\\n')\n",
    "    "
   ]
  },
  {
   "cell_type": "code",
   "execution_count": 88,
   "metadata": {
    "collapsed": false
   },
   "outputs": [
    {
     "name": "stdout",
     "output_type": "stream",
     "text": [
      "﻿يقول مؤسس شركة مايكروسوفت، بيل غيتس، إن الخلاف الدائر بين أبل ومكتب التحقيقات الفيدرالي حول بيانات هاتف مهاجم سان برناردينو يجب أن يكون بداية لفتح نقاش بشأن طلبات الحكومات للوصول إلى البيانات.\n",
      "ويريد مكتب التحقيقات من أبل فك شفرة هاتف أيفون الخاصة بسيد رضوان فاروق الذي قتل 14 شخصا في ديسمبر/ كانون الأول العام الماضي.\n",
      "ورفضت أبل الطلب، ووصفته بأنه \"خطير وغير مسبوق\".\n",
      "تجاوز ميديا بلايرمساعدة خاصة بميديا بلايرخارج ميديا بلاير. اضغط 'enter' للعودة أو tab للمواصلة.\n",
      "وقال غيتس، في حديثه لصحيفة فاينانشال تايمز إن الاستجابة لطلب مكتب التحقيقات الفيدرالي لن يكون بابا خلفيا لجميع أجهزة أيفون.\n",
      "وأضاف \"هذه حالة خاصة، إذ تطلب فيها الحكومة الوصول إلى معلومات ... فهي لا تطلب شيئا عاما، بل تطلب حالة بعينها.\"\n",
      "وقال مؤسس مايكرسوفت إن الحالة شبيهة بالطلبات التي كانت تقدم باستمرار إلى شركات الهواتف والبنوك للحصول على معلومات.\n",
      "وأعرب غيتس مرة أخرى في مقابلة منفصلة مع بي بي سي عن رأيه في أن القضية انتهت إلى ضرورة وجود نقاش بشأن قدرة الحكومات على الحصول على بيانات تستخدمها في حماية المواطنين.\n",
      "وأضاف لبي بي سي \"هل ينبغي على الحكومات الحصول على المعلومات بصورة كاملة أم يتعين عليها أن تغمض أعينها، هذا هو الموضوع الرئيسي الذي نتحدث فيه.\"\n",
      "ولم تعلق شركة مايكروسوفت رسميا على الخلاف بين أبل ومكتب التحقيقات الفيدرالي.\n",
      "وعندما وجدت الشركة نفسها مضطرة إلى إبداء الرأي بشأن الخلاف، مع ذلك، أشارت إلى بيان أصدرته مجموعة إصلاح الرقابة الحكومية، التي هي عضوة فيها.\n",
      "Image copyrightAFP\n",
      "Image caption\n",
      "مؤسس موقع فيس بوك، زوكربيرغ، يقول إنه \"تعاطف\" مع الأسباب التي أبدتها أبل في رفضها\n",
      "ووقف البيان بجانب شركة أبل، وجاء فيه \"لا يمكن أن يُطلب من شركات التكنولوجيا أن تغمض أعينها عن الأبواب الخلفية للوسائل التكنولوجية التي تحافظ على خصوصية معلومات المستخدمين.\"\n",
      "وأفادت تقارير بأن وزارة العدل الأمريكية طلبت، هذا الأسبوع، مساعدة أبل في الوصول إلى بيانات هواتف أيفون خاصة بأكثر من 12 تحقيقا منفصلا.\n",
      "وقالت صحيفة \"وول ستريت جورنال\" إن القضايا تخص العديد من التحقيقات المختلفة، مشيرة إلى أن الوصول إلى البيانات المشفرة على الهواتف من شأنه أن يساعد في تنفيذ القانون.\n",
      "ولا يُعتقد بأن تلك القضايا على علاقة بالإرهاب، كما أن العديد منها يضم طرازات قديمة من أيفون تفتقر إلى وسائل الحماية القوية الموجودة في الأجهزة الحديثة.\n",
      "وكان مؤسس فيسبوك، مارك زوكربيرغ، قد أعرب مؤخرا عن تعاطفه مع موقف أبل في خلافها مع مكتب التحقيقات الفيدرالي.\n",
      "وخلّف هجوم سان برنادينو الذي نفذه سيد رضوان فاروق وزوجته تشفين مالك في ديسمبر/ كانون الأول 14 قتيلا و22 مصابا.\n",
      "وقال مدير مكتب التحقيقات الفيدرالي، جيمس كومي، في بيان نُشر الأحد، إن طلب المكتب للحصول على بيانات هاتف فاروق هي مسألة \"ضحايا وعدالة\".\n",
      "وأرسل الرئيس التنفيذي لأبل، تيم كوك، رسالة إلى موظفي المؤسسة بشأن الخلاف مع السلطات الأمريكية، يقول فيه إن رفضه يتعلق بحقوق مدنية واسعة بهذه القضية في حد ذاتها.\n"
     ]
    }
   ],
   "source": [
    "for eachline in splitfile:\n",
    "    print (eachline)"
   ]
  },
  {
   "cell_type": "code",
   "execution_count": 96,
   "metadata": {
    "collapsed": false
   },
   "outputs": [],
   "source": [
    "outputf = open('outfile.txt','a',encoding = 'utf-8')\n",
    "fto = inputf\n",
    "outputf.write(fto)\n",
    "outputf.close()"
   ]
  },
  {
   "cell_type": "markdown",
   "metadata": {},
   "source": [
    "# some methods to work with arabic str"
   ]
  },
  {
   "cell_type": "code",
   "execution_count": 99,
   "metadata": {
    "collapsed": false
   },
   "outputs": [
    {
     "data": {
      "text/plain": [
       "True"
      ]
     },
     "execution_count": 99,
     "metadata": {},
     "output_type": "execute_result"
    }
   ],
   "source": [
    "arabicstr = 'ثورة الكرامة والحرية هي ثورة للجميع'\n",
    "arabicstr.endswith('ميع')"
   ]
  },
  {
   "cell_type": "code",
   "execution_count": 101,
   "metadata": {
    "collapsed": false
   },
   "outputs": [
    {
     "data": {
      "text/plain": [
       "21"
      ]
     },
     "execution_count": 101,
     "metadata": {},
     "output_type": "execute_result"
    }
   ],
   "source": [
    "arabicstr.find('هي')"
   ]
  },
  {
   "cell_type": "code",
   "execution_count": 103,
   "metadata": {
    "collapsed": false
   },
   "outputs": [
    {
     "data": {
      "text/plain": [
       "True"
      ]
     },
     "execution_count": 103,
     "metadata": {},
     "output_type": "execute_result"
    }
   ],
   "source": [
    "'ثورة' in arabicstr"
   ]
  },
  {
   "cell_type": "code",
   "execution_count": 105,
   "metadata": {
    "collapsed": false
   },
   "outputs": [
    {
     "data": {
      "text/plain": [
       "True"
      ]
     },
     "execution_count": 105,
     "metadata": {},
     "output_type": "execute_result"
    }
   ],
   "source": [
    "'ثورة' in 'ثورة الكرامة والحرية هي ثورة للجميع'\n"
   ]
  },
  {
   "cell_type": "code",
   "execution_count": 107,
   "metadata": {
    "collapsed": false
   },
   "outputs": [
    {
     "data": {
      "text/plain": [
       "21"
      ]
     },
     "execution_count": 107,
     "metadata": {},
     "output_type": "execute_result"
    }
   ],
   "source": [
    "arabicstr.index('هي')"
   ]
  },
  {
   "cell_type": "code",
   "execution_count": 110,
   "metadata": {
    "collapsed": false
   },
   "outputs": [
    {
     "data": {
      "text/plain": [
       "False"
      ]
     },
     "execution_count": 110,
     "metadata": {},
     "output_type": "execute_result"
    }
   ],
   "source": [
    "arabicstr = ' ثورة الكرامة والحرية هي ثورة للجميع ثورة 21'\n",
    "arabicstr.isalnum()"
   ]
  },
  {
   "cell_type": "code",
   "execution_count": 112,
   "metadata": {
    "collapsed": false
   },
   "outputs": [
    {
     "data": {
      "text/plain": [
       "False"
      ]
     },
     "execution_count": 112,
     "metadata": {},
     "output_type": "execute_result"
    }
   ],
   "source": [
    "arabicstr.isalpha()"
   ]
  },
  {
   "cell_type": "markdown",
   "metadata": {},
   "source": [
    "# Next try to apply the concepts here about text processing"
   ]
  },
  {
   "cell_type": "code",
   "execution_count": 113,
   "metadata": {
    "collapsed": true
   },
   "outputs": [],
   "source": [
    "# https://docs.python.org/3.5/library/text.html#stringservices"
   ]
  },
  {
   "cell_type": "code",
   "execution_count": null,
   "metadata": {
    "collapsed": true
   },
   "outputs": [],
   "source": []
  }
 ],
 "metadata": {
  "kernelspec": {
   "display_name": "Python 3",
   "language": "python",
   "name": "python3"
  },
  "language_info": {
   "codemirror_mode": {
    "name": "ipython",
    "version": 3
   },
   "file_extension": ".py",
   "mimetype": "text/x-python",
   "name": "python",
   "nbconvert_exporter": "python",
   "pygments_lexer": "ipython3",
   "version": "3.5.1"
  }
 },
 "nbformat": 4,
 "nbformat_minor": 0
}
